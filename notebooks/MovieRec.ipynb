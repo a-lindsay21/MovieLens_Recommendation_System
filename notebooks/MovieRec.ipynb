{
  "nbformat": 4,
  "nbformat_minor": 0,
  "metadata": {
    "colab": {
      "provenance": []
    },
    "kernelspec": {
      "name": "python3",
      "display_name": "Python 3"
    },
    "language_info": {
      "name": "python"
    }
  },
  "cells": [
    {
      "cell_type": "code",
      "execution_count": 8,
      "metadata": {
        "colab": {
          "base_uri": "https://localhost:8080/"
        },
        "id": "dHpOI4KgzrpQ",
        "outputId": "ef7a56c3-328a-4313-da0d-1f8981d99f94"
      },
      "outputs": [
        {
          "output_type": "stream",
          "name": "stdout",
          "text": [
            "Ratings Dataset:\n",
            "   userId  movieId  rating  timestamp\n",
            "0       1        1     4.0  964982703\n",
            "1       1        3     4.0  964981247\n",
            "2       1        6     4.0  964982224\n",
            "3       1       47     5.0  964983815\n",
            "4       1       50     5.0  964982931\n",
            "<class 'pandas.core.frame.DataFrame'>\n",
            "RangeIndex: 100836 entries, 0 to 100835\n",
            "Data columns (total 4 columns):\n",
            " #   Column     Non-Null Count   Dtype  \n",
            "---  ------     --------------   -----  \n",
            " 0   userId     100836 non-null  int64  \n",
            " 1   movieId    100836 non-null  int64  \n",
            " 2   rating     100836 non-null  float64\n",
            " 3   timestamp  100836 non-null  int64  \n",
            "dtypes: float64(1), int64(3)\n",
            "memory usage: 3.1 MB\n",
            "None\n",
            "\n",
            "Movies Dataset:\n",
            "   movieId                               title  \\\n",
            "0        1                    Toy Story (1995)   \n",
            "1        2                      Jumanji (1995)   \n",
            "2        3             Grumpier Old Men (1995)   \n",
            "3        4            Waiting to Exhale (1995)   \n",
            "4        5  Father of the Bride Part II (1995)   \n",
            "\n",
            "                                        genres  \n",
            "0  Adventure|Animation|Children|Comedy|Fantasy  \n",
            "1                   Adventure|Children|Fantasy  \n",
            "2                               Comedy|Romance  \n",
            "3                         Comedy|Drama|Romance  \n",
            "4                                       Comedy  \n",
            "<class 'pandas.core.frame.DataFrame'>\n",
            "RangeIndex: 9742 entries, 0 to 9741\n",
            "Data columns (total 3 columns):\n",
            " #   Column   Non-Null Count  Dtype \n",
            "---  ------   --------------  ----- \n",
            " 0   movieId  9742 non-null   int64 \n",
            " 1   title    9742 non-null   object\n",
            " 2   genres   9742 non-null   object\n",
            "dtypes: int64(1), object(2)\n",
            "memory usage: 228.5+ KB\n",
            "None\n",
            "\n",
            "Tags Dataset:\n",
            "   userId  movieId              tag   timestamp\n",
            "0       2    60756            funny  1445714994\n",
            "1       2    60756  Highly quotable  1445714996\n",
            "2       2    60756     will ferrell  1445714992\n",
            "3       2    89774     Boxing story  1445715207\n",
            "4       2    89774              MMA  1445715200\n",
            "<class 'pandas.core.frame.DataFrame'>\n",
            "RangeIndex: 3683 entries, 0 to 3682\n",
            "Data columns (total 4 columns):\n",
            " #   Column     Non-Null Count  Dtype \n",
            "---  ------     --------------  ----- \n",
            " 0   userId     3683 non-null   int64 \n",
            " 1   movieId    3683 non-null   int64 \n",
            " 2   tag        3683 non-null   object\n",
            " 3   timestamp  3683 non-null   int64 \n",
            "dtypes: int64(3), object(1)\n",
            "memory usage: 115.2+ KB\n",
            "None\n"
          ]
        }
      ],
      "source": [
        "import pandas as pd\n",
        "\n",
        "# Load the dataset directly from GitHub\n",
        "links_url = 'https://raw.githubusercontent.com/a-lindsay21/MovieLens_Recommendation_System/refs/heads/main/data/links.csv'\n",
        "movies_url = 'https://raw.githubusercontent.com/a-lindsay21/MovieLens_Recommendation_System/refs/heads/main/data/movies.csv'\n",
        "ratings_url = 'https://raw.githubusercontent.com/a-lindsay21/MovieLens_Recommendation_System/refs/heads/main/data/ratings.csv'\n",
        "tags_url = 'https://raw.githubusercontent.com/a-lindsay21/MovieLens_Recommendation_System/refs/heads/main/data/tags.csv'\n",
        "\n",
        "links = pd.read_csv(links_url)\n",
        "movies = pd.read_csv(movies_url)\n",
        "ratings = pd.read_csv(ratings_url)\n",
        "tags = pd.read_csv(tags_url)\n",
        "\n",
        "# Explore the ratings dataset\n",
        "print(\"Ratings Dataset:\")\n",
        "print(ratings.head())\n",
        "print(ratings.info())\n",
        "\n",
        "# Explore the movies dataset\n",
        "print(\"\\nMovies Dataset:\")\n",
        "print(movies.head())\n",
        "print(movies.info())\n",
        "\n",
        "print(\"\\nTags Dataset:\")\n",
        "print(tags.head())\n",
        "print(tags.info())\n"
      ]
    },
    {
      "cell_type": "code",
      "source": [
        "import matplotlib.pyplot as plt\n",
        "import seaborn as sns\n",
        "\n",
        "# Plot distribution of ratings\n",
        "plt.figure(figsize=(8, 6))\n",
        "sns.histplot(ratings['rating'], bins=10, kde=False, color='skyblue')\n",
        "plt.title('Distribution of Ratings')\n",
        "plt.xlabel('Rating')\n",
        "plt.ylabel('Count')\n",
        "plt.show()\n",
        "\n",
        "# Top 10 most-rated movies\n",
        "most_rated = ratings.groupby('movieId').size().sort_values(ascending=False).head(10)\n",
        "print(\"Top 10 most-rated movies:\\n\", most_rated)\n",
        "\n",
        "# Most active users (users who rated the most movies)\n",
        "most_active_users = ratings.groupby('userId').size().sort_values(ascending=False).head(10)\n",
        "print(\"\\nTop 10 most-active users:\\n\", most_active_users)\n"
      ],
      "metadata": {
        "colab": {
          "base_uri": "https://localhost:8080/",
          "height": 1000
        },
        "id": "8gjVT1aW2vj7",
        "outputId": "c3d3b97c-35d6-46f5-9bb1-e57cad766700"
      },
      "execution_count": 9,
      "outputs": [
        {
          "output_type": "display_data",
          "data": {
            "text/plain": [
              "<Figure size 800x600 with 1 Axes>"
            ],
            "image/png": "[encoded data removed]"
          },
          "metadata": {}
        },
        {
          "output_type": "stream",
          "name": "stdout",
          "text": [
            "Top 10 most-rated movies:\n",
            " movieId\n",
            "356     329\n",
            "318     317\n",
            "296     307\n",
            "593     279\n",
            "2571    278\n",
            "260     251\n",
            "480     238\n",
            "110     237\n",
            "589     224\n",
            "527     220\n",
            "dtype: int64\n",
            "\n",
            "Top 10 most-active users:\n",
            " userId\n",
            "414    2698\n",
            "599    2478\n",
            "474    2108\n",
            "448    1864\n",
            "274    1346\n",
            "610    1302\n",
            "68     1260\n",
            "380    1218\n",
            "606    1115\n",
            "288    1055\n",
            "dtype: int64\n"
          ]
        }
      ]
    },
    {
      "cell_type": "code",
      "source": [
        "# Count movies by genre\n",
        "movies['genre_count'] = movies['genres'].apply(lambda x: len(x.split('|')))\n",
        "print(\"Average number of genres per movie:\", movies['genre_count'].mean())\n",
        "\n",
        "# Most common genres\n",
        "from collections import Counter\n",
        "genres = movies['genres'].str.split('|').explode()\n",
        "most_common_genres = Counter(genres).most_common(10)\n",
        "print(\"Most common genres:\\n\", most_common_genres)\n",
        "\n",
        "# Merge ratings and movies datasets for deeper analysis\n",
        "ratings_movies = pd.merge(ratings, movies, on='movieId')\n",
        "highest_rated_movies = ratings_movies.groupby('title')['rating'].mean().sort_values(ascending=False).head(10)\n",
        "print(\"\\nTop 10 highest-rated movies:\\n\", highest_rated_movies)\n"
      ],
      "metadata": {
        "colab": {
          "base_uri": "https://localhost:8080/"
        },
        "id": "HVD5i6gE2yyq",
        "outputId": "14d416b0-2158-42a4-ff40-f89b16974f5c"
      },
      "execution_count": 10,
      "outputs": [
        {
          "output_type": "stream",
          "name": "stdout",
          "text": [
            "Average number of genres per movie: 2.2668856497639087\n",
            "Most common genres:\n",
            " [('Drama', 4361), ('Comedy', 3756), ('Thriller', 1894), ('Action', 1828), ('Romance', 1596), ('Adventure', 1263), ('Crime', 1199), ('Sci-Fi', 980), ('Horror', 978), ('Fantasy', 779)]\n",
            "\n",
            "Top 10 highest-rated movies:\n",
            " title\n",
            "Gena the Crocodile (1969)                    5.0\n",
            "True Stories (1986)                          5.0\n",
            "Cosmic Scrat-tastrophe (2015)                5.0\n",
            "Love and Pigeons (1985)                      5.0\n",
            "Red Sorghum (Hong gao liang) (1987)          5.0\n",
            "Thin Line Between Love and Hate, A (1996)    5.0\n",
            "Lesson Faust (1994)                          5.0\n",
            "Eva (2011)                                   5.0\n",
            "Who Killed Chea Vichea? (2010)               5.0\n",
            "Siam Sunset (1999)                           5.0\n",
            "Name: rating, dtype: float64\n"
          ]
        }
      ]
    },
    {
      "cell_type": "code",
      "source": [
        "from sklearn.metrics.pairwise import cosine_similarity\n",
        "from sklearn.feature_extraction.text import CountVectorizer\n",
        "import numpy as np\n",
        "\n",
        "# Create a pivot table: Users as rows, Movies as columns, Ratings as values\n",
        "user_movie_matrix = ratings.pivot(index='userId', columns='movieId', values='rating')\n",
        "\n",
        "# Fill NaN values with 0 (movies not rated by a user)\n",
        "user_movie_matrix.fillna(0, inplace=True)\n",
        "\n",
        "# Compute cosine similarity for movies\n",
        "movie_similarity = cosine_similarity(user_movie_matrix.T)  # Transpose to compute item-based similarity\n",
        "movie_similarity_df = pd.DataFrame(movie_similarity, index=user_movie_matrix.columns, columns=user_movie_matrix.columns)\n",
        "\n",
        "# Function to recommend movies\n",
        "def recommend_movies(movie_id, similarity_matrix, movies_df, top_n=10):\n",
        "    # Get similar movies\n",
        "    similar_movies = similarity_matrix[movie_id].sort_values(ascending=False).head(top_n + 1)  # +1 to exclude the movie itself\n",
        "    # Map movie IDs to titles\n",
        "    recommended_titles = movies_df[movies_df['movieId'].isin(similar_movies.index)]['title']\n",
        "    return recommended_titles.iloc[1:].tolist()  # Skip the input movie itself\n",
        "\n",
        "# Test the recommendation function\n",
        "test_movie_id = 356  # Replace with any movieId from the most-rated list\n",
        "recommended_movies = recommend_movies(test_movie_id, movie_similarity_df, movies)\n",
        "print(f\"Movies similar to {movies[movies['movieId'] == test_movie_id]['title'].values[0]}:\")\n",
        "print(recommended_movies)\n"
      ],
      "metadata": {
        "colab": {
          "base_uri": "https://localhost:8080/"
        },
        "id": "kLf6uOWb3rZ5",
        "outputId": "57eb48b0-2163-4192-c6c2-484290ea8fd4"
      },
      "execution_count": 11,
      "outputs": [
        {
          "output_type": "stream",
          "name": "stdout",
          "text": [
            "Movies similar to Forrest Gump (1994):\n",
            "['Apollo 13 (1995)', 'Pulp Fiction (1994)', 'Shawshank Redemption, The (1994)', 'Forrest Gump (1994)', 'Jurassic Park (1993)', 'Mrs. Doubtfire (1993)', \"Schindler's List (1993)\", 'Terminator 2: Judgment Day (1991)', 'Silence of the Lambs, The (1991)', 'Matrix, The (1999)']\n"
          ]
        }
      ]
    },
    {
      "cell_type": "code",
      "source": [
        "# Compute cosine similarity for users\n",
        "user_similarity = cosine_similarity(user_movie_matrix)\n",
        "user_similarity_df = pd.DataFrame(user_similarity, index=user_movie_matrix.index, columns=user_movie_matrix.index)\n",
        "\n",
        "# Function to recommend movies based on similar users\n",
        "def recommend_movies_user(user_id, similarity_matrix, user_movie_matrix, movies_df, top_n=10):\n",
        "    # Get similar users\n",
        "    similar_users = similarity_matrix[user_id].sort_values(ascending=False).head(top_n + 1)  # +1 to exclude the user itself\n",
        "    # Aggregate ratings from similar users\n",
        "    similar_users_ratings = user_movie_matrix.loc[similar_users.index].mean(axis=0)\n",
        "    # Recommend movies the user hasn't seen\n",
        "    recommended_movie_ids = similar_users_ratings[user_movie_matrix.loc[user_id] == 0].sort_values(ascending=False).head(top_n).index\n",
        "    recommended_titles = movies_df[movies_df['movieId'].isin(recommended_movie_ids)]['title']\n",
        "    return recommended_titles.tolist()\n",
        "\n",
        "# Test user-based recommendations\n",
        "test_user_id = 414  # Replace with a top active user ID\n",
        "recommended_user_movies = recommend_movies_user(test_user_id, user_similarity_df, user_movie_matrix, movies)\n",
        "print(f\"Movies recommended for user {test_user_id}:\")\n",
        "print(recommended_user_movies)\n"
      ],
      "metadata": {
        "colab": {
          "base_uri": "https://localhost:8080/"
        },
        "id": "pygMTA863v-g",
        "outputId": "fcd4ad82-1de6-4060-d863-8319ce3e2228"
      },
      "execution_count": 12,
      "outputs": [
        {
          "output_type": "stream",
          "name": "stdout",
          "text": [
            "Movies recommended for user 414:\n",
            "['Robin Hood: Men in Tights (1993)', 'Kingpin (1996)', 'Psycho (1960)', 'Day the Earth Stood Still, The (1951)', 'Shining, The (1980)', 'Halloween (1978)', 'One Hour Photo (2002)', 'Harry Potter and the Prisoner of Azkaban (2004)', \"Ocean's Twelve (2004)\", 'Borat: Cultural Learnings of America for Make Benefit Glorious Nation of Kazakhstan (2006)']\n"
          ]
        }
      ]
    },
    {
      "cell_type": "code",
      "source": [
        "from sklearn.feature_extraction.text import TfidfVectorizer\n",
        "\n",
        "# Create a TF-IDF matrix for genres\n",
        "tfidf = TfidfVectorizer(tokenizer=lambda x: x.split('|'))\n",
        "tfidf_matrix = tfidf.fit_transform(movies['genres'])\n",
        "\n",
        "# Compute cosine similarity for genres\n",
        "genre_similarity = cosine_similarity(tfidf_matrix, tfidf_matrix)\n",
        "\n",
        "# Function to recommend movies based on genres\n",
        "def recommend_movies_genre(movie_title, similarity_matrix, movies_df, top_n=10):\n",
        "    movie_idx = movies_df[movies_df['title'] == movie_title].index[0]\n",
        "    similar_movies = similarity_matrix[movie_idx].argsort()[::-1][1:top_n + 1]\n",
        "    return movies_df.iloc[similar_movies]['title'].tolist()\n",
        "\n",
        "# Test genre-based recommendations\n",
        "recommended_genre_movies = recommend_movies_genre(\"Forrest Gump (1994)\", genre_similarity, movies)\n",
        "print(f\"Movies similar to Forrest Gump (1994) based on genres:\")\n",
        "print(recommended_genre_movies)\n"
      ],
      "metadata": {
        "colab": {
          "base_uri": "https://localhost:8080/"
        },
        "id": "7XGZKPeC4XH3",
        "outputId": "782b3cf1-13ea-4982-b606-cb075561c8c1"
      },
      "execution_count": 13,
      "outputs": [
        {
          "output_type": "stream",
          "name": "stderr",
          "text": [
            "/usr/local/lib/python3.10/dist-packages/sklearn/feature_extraction/text.py:517: UserWarning: The parameter 'token_pattern' will not be used since 'tokenizer' is not None'\n",
            "  warnings.warn(\n"
          ]
        },
        {
          "output_type": "stream",
          "name": "stdout",
          "text": [
            "Movies similar to Forrest Gump (1994) based on genres:\n",
            "['Train of Life (Train de vie) (1998)', 'I Served the King of England (Obsluhoval jsem anglického krále) (2006)', 'Tiger and the Snow, The (La tigre e la neve) (2005)', 'Forrest Gump (1994)', 'Messenger, The (2009)', 'Atonement (2007)', \"Captain Corelli's Mandolin (2001)\", 'Year of Living Dangerously, The (1982)', 'Edge of Love, The (2008)', 'Hiroshima Mon Amour (1959)']\n"
          ]
        }
      ]
    },
    {
      "cell_type": "code",
      "source": [
        "from sklearn.metrics import mean_squared_error\n",
        "import numpy as np\n",
        "\n",
        "# Create a train-test split for evaluation\n",
        "from sklearn.model_selection import train_test_split\n",
        "\n",
        "# Split the data into train and test sets\n",
        "train_data, test_data = train_test_split(ratings, test_size=0.2, random_state=42)\n",
        "\n",
        "# Create a user-movie matrix for training data\n",
        "train_matrix = train_data.pivot(index='userId', columns='movieId', values='rating')\n",
        "train_matrix.fillna(0, inplace=True)\n",
        "\n",
        "# Create the similarity matrix for collaborative filtering\n",
        "train_similarity = cosine_similarity(train_matrix.T)\n",
        "\n",
        "# Map movieId to matrix indices\n",
        "movie_id_to_index = {movie_id: idx for idx, movie_id in enumerate(train_matrix.columns)}\n",
        "index_to_movie_id = {idx: movie_id for movie_id, idx in movie_id_to_index.items()}\n",
        "\n",
        "def predict_rating(user_id, movie_id, similarity_matrix, user_movie_matrix, movie_id_to_index):\n",
        "    # Check if movie_id exists in the mapping\n",
        "    if movie_id in movie_id_to_index:\n",
        "        movie_index = movie_id_to_index[movie_id]\n",
        "        # Get similarity scores for the movie\n",
        "        similar_movies = similarity_matrix[movie_index]\n",
        "        user_ratings = user_movie_matrix.loc[user_id]\n",
        "        weighted_ratings = similar_movies * user_ratings\n",
        "        predicted_rating = weighted_ratings.sum() / np.abs(similar_movies).sum()\n",
        "        return predicted_rating\n",
        "    else:\n",
        "        return np.nan  # Movie not in training set\n",
        "\n",
        "# Generate predictions for the test set\n",
        "test_data['predicted_rating'] = test_data.apply(\n",
        "    lambda row: predict_rating(row['userId'], row['movieId'], train_similarity, train_matrix, movie_id_to_index), axis=1\n",
        ")\n",
        "\n",
        "# Drop NaN predictions\n",
        "test_data = test_data.dropna(subset=['predicted_rating'])\n",
        "\n",
        "# Calculate RMSE\n",
        "rmse = np.sqrt(mean_squared_error(test_data['rating'], test_data['predicted_rating']))\n",
        "print(f\"RMSE for Collaborative Filtering: {rmse}\")\n",
        "\n"
      ],
      "metadata": {
        "colab": {
          "base_uri": "https://localhost:8080/"
        },
        "id": "ijQh2d07_njr",
        "outputId": "2d508ce7-67d7-422e-cbf2-ca5c45c2e5aa"
      },
      "execution_count": 15,
      "outputs": [
        {
          "output_type": "stream",
          "name": "stdout",
          "text": [
            "RMSE for Collaborative Filtering: 3.376997074200516\n"
          ]
        }
      ]
    },
    {
      "cell_type": "code",
      "source": [
        "def precision_at_k(recommendations, relevant_items, k=10):\n",
        "    # Get the top K recommendations\n",
        "    recommended_top_k = recommendations[:k]\n",
        "    # Calculate Precision@K\n",
        "    precision = len(set(recommended_top_k) & set(relevant_items)) / k\n",
        "    return precision\n",
        "\n",
        "# Example: Evaluate Precision@K for a single user\n",
        "user_id = 414  # Replace with an actual user ID from your dataset\n",
        "\n",
        "# Get relevant items for the user (movies they rated 4 or above)\n",
        "relevant_items = ratings[(ratings['userId'] == user_id) & (ratings['rating'] >= 4)]['movieId'].tolist()\n",
        "\n",
        "# Get top 10 recommendations for the user from the content-based model\n",
        "recommended_movies = recommend_movies_user(user_id, user_similarity_df, train_matrix, movies, top_n=10)\n",
        "\n",
        "# Calculate Precision@K\n",
        "precision = precision_at_k(recommended_movies, relevant_items, k=10)\n",
        "print(f\"Precision@10 for User {user_id}: {precision}\")\n"
      ],
      "metadata": {
        "colab": {
          "base_uri": "https://localhost:8080/"
        },
        "id": "TuBPIC4CAJnH",
        "outputId": "81d116e6-8276-4496-91de-5654e31316cd"
      },
      "execution_count": 16,
      "outputs": [
        {
          "output_type": "stream",
          "name": "stdout",
          "text": [
            "Precision@10 for User 414: 0.0\n"
          ]
        }
      ]
    },
    {
      "cell_type": "code",
      "source": [
        "import matplotlib.pyplot as plt\n",
        "\n",
        "# Example results\n",
        "results = {\n",
        "    'Collaborative Filtering (RMSE)': rmse,\n",
        "    'Content-Based Filtering (Precision@10)': precision\n",
        "}\n",
        "\n",
        "# Plot results\n",
        "plt.figure(figsize=(8, 5))\n",
        "plt.bar(results.keys(), results.values(), color=['skyblue', 'lightgreen'])\n",
        "plt.title('Model Evaluation Metrics')\n",
        "plt.ylabel('Score')\n",
        "plt.show()\n"
      ],
      "metadata": {
        "colab": {
          "base_uri": "https://localhost:8080/",
          "height": 488
        },
        "id": "wlutOwxJAN1U",
        "outputId": "0bd86e98-d3dd-471e-9e91-a87fe2178b85"
      },
      "execution_count": 17,
      "outputs": [
        {
          "output_type": "display_data",
          "data": {
            "text/plain": [
              "<Figure size 800x500 with 1 Axes>"
            ],
            "image/png": "[encoded data removed]"
          },
          "metadata": {}
        }
      ]
    },
    {
      "cell_type": "code",
      "source": [
        "!pip install scikit-surprise\n"
      ],
      "metadata": {
        "colab": {
          "base_uri": "https://localhost:8080/"
        },
        "id": "tEieEbT_AmMj",
        "outputId": "81bd3196-52be-4bbf-9d54-3303d59dd8ed"
      },
      "execution_count": 19,
      "outputs": [
        {
          "output_type": "stream",
          "name": "stdout",
          "text": [
            "Collecting scikit-surprise\n",
            "  Downloading scikit_surprise-1.1.4.tar.gz (154 kB)\n",
            "\u001b[?25l     \u001b[90m━━━━━━━━━━━━━━━━━━━━━━━━━━━━━━━━━━━━━━━━\u001b[0m \u001b[32m0.0/154.4 kB\u001b[0m \u001b[31m?\u001b[0m eta \u001b[36m-:--:--\u001b[0m\r\u001b[2K     \u001b[91m━━━━━━━━━━━━━━━━━━━━━━━━━━━━━━━━━━━━━━━\u001b[0m\u001b[91m╸\u001b[0m \u001b[32m153.6/154.4 kB\u001b[0m \u001b[31m4.8 MB/s\u001b[0m eta \u001b[36m0:00:01\u001b[0m\r\u001b[2K     \u001b[90m━━━━━━━━━━━━━━━━━━━━━━━━━━━━━━━━━━━━━━━━\u001b[0m \u001b[32m154.4/154.4 kB\u001b[0m \u001b[31m3.2 MB/s\u001b[0m eta \u001b[36m0:00:00\u001b[0m\n",
            "\u001b[?25h  Installing build dependencies ... \u001b[?25l\u001b[?25hdone\n",
            "  Getting requirements to build wheel ... \u001b[?25l\u001b[?25hdone\n",
            "  Preparing metadata (pyproject.toml) ... \u001b[?25l\u001b[?25hdone\n",
            "Requirement already satisfied: joblib>=1.2.0 in /usr/local/lib/python3.10/dist-packages (from scikit-surprise) (1.4.2)\n",
            "Requirement already satisfied: numpy>=1.19.5 in /usr/local/lib/python3.10/dist-packages (from scikit-surprise) (1.26.4)\n",
            "Requirement already satisfied: scipy>=1.6.0 in /usr/local/lib/python3.10/dist-packages (from scikit-surprise) (1.13.1)\n",
            "Building wheels for collected packages: scikit-surprise\n",
            "  Building wheel for scikit-surprise (pyproject.toml) ... \u001b[?25l\u001b[?25hdone\n",
            "  Created wheel for scikit-surprise: filename=scikit_surprise-1.1.4-cp310-cp310-linux_x86_64.whl size=2357269 sha256=6251eef3bb8d907d4c593a454e45c7cda53501c52769f8f1264675f1aea65cf3\n",
            "  Stored in directory: /root/.cache/pip/wheels/4b/3f/df/6acbf0a40397d9bf3ff97f582cc22fb9ce66adde75bc71fd54\n",
            "Successfully built scikit-surprise\n",
            "Installing collected packages: scikit-surprise\n",
            "Successfully installed scikit-surprise-1.1.4\n"
          ]
        }
      ]
    },
    {
      "cell_type": "code",
      "source": [
        "from surprise import SVD\n",
        "from surprise import Dataset, Reader\n",
        "from surprise.model_selection import train_test_split\n",
        "from surprise.accuracy import rmse\n",
        "\n",
        "# Load data for Surprise library\n",
        "reader = Reader(rating_scale=(0.5, 5))\n",
        "data = Dataset.load_from_df(ratings[['userId', 'movieId', 'rating']], reader)\n",
        "\n",
        "# Train-test split\n",
        "trainset, testset = train_test_split(data, test_size=0.2, random_state=42)\n",
        "\n",
        "# Build and train the SVD model\n",
        "svd_model = SVD()\n",
        "svd_model.fit(trainset)\n",
        "\n",
        "# Predict on test set and evaluate RMSE\n",
        "predictions = svd_model.test(testset)\n",
        "print(\"RMSE for SVD Collaborative Filtering:\", rmse(predictions))\n"
      ],
      "metadata": {
        "colab": {
          "base_uri": "https://localhost:8080/"
        },
        "id": "AL1xvULuAaSu",
        "outputId": "be2b975f-3b03-4978-adae-fee5a2f7c611"
      },
      "execution_count": 20,
      "outputs": [
        {
          "output_type": "stream",
          "name": "stdout",
          "text": [
            "RMSE: 0.8818\n",
            "RMSE for SVD Collaborative Filtering: 0.8817917476468825\n"
          ]
        }
      ]
    },
    {
      "cell_type": "code",
      "source": [
        "# Create user profiles based on their rated movies\n",
        "user_profiles = ratings.merge(movies, on='movieId')\n",
        "user_genres = user_profiles.groupby('userId')['genres'].apply(lambda x: ' '.join(x)).reset_index()\n",
        "\n",
        "# Use TF-IDF for personalized recommendations\n",
        "from sklearn.feature_extraction.text import TfidfVectorizer\n",
        "\n",
        "tfidf = TfidfVectorizer(tokenizer=lambda x: x.split('|'))\n",
        "user_genre_matrix = tfidf.fit_transform(user_genres['genres'])\n",
        "\n",
        "# Compute cosine similarity for a specific user\n",
        "user_id = 414  # Example user\n",
        "user_index = user_genres[user_genres['userId'] == user_id].index[0]\n",
        "similar_users = cosine_similarity(user_genre_matrix[user_index], user_genre_matrix).flatten()\n",
        "\n",
        "# Recommend movies based on similar users\n",
        "top_similar_users = user_genres.iloc[similar_users.argsort()[::-1][1:11]]['userId']\n",
        "print(\"Users similar to User 414:\", top_similar_users.tolist())\n"
      ],
      "metadata": {
        "colab": {
          "base_uri": "https://localhost:8080/"
        },
        "id": "e6ireNFoBLFJ",
        "outputId": "08f307f2-d700-47c3-9ef0-8839ab8ffb5a"
      },
      "execution_count": 21,
      "outputs": [
        {
          "output_type": "stream",
          "name": "stderr",
          "text": [
            "/usr/local/lib/python3.10/dist-packages/sklearn/feature_extraction/text.py:517: UserWarning: The parameter 'token_pattern' will not be used since 'tokenizer' is not None'\n",
            "  warnings.warn(\n"
          ]
        },
        {
          "output_type": "stream",
          "name": "stdout",
          "text": [
            "Users similar to User 414: [599, 480, 68, 182, 232, 489, 448, 590, 560, 64]\n"
          ]
        }
      ]
    },
    {
      "cell_type": "code",
      "source": [
        "def hybrid_recommendation(user_id, svd_model, user_similarity_df, movies_df, top_n=10):\n",
        "    # Collaborative Filtering (SVD) Predictions\n",
        "    collaborative_predictions = []\n",
        "    for movie_id in movies_df['movieId']:\n",
        "        try:\n",
        "            collaborative_predictions.append((movie_id, svd_model.predict(user_id, movie_id).est))\n",
        "        except:\n",
        "            collaborative_predictions.append((movie_id, 0))  # Default to 0 if prediction fails\n",
        "\n",
        "    # Content-Based Filtering (Genres)\n",
        "    similar_users = user_similarity_df[user_id].sort_values(ascending=False).head(10).index\n",
        "    genre_recommendations = ratings[ratings['userId'].isin(similar_users)]['movieId'].value_counts().index[:top_n]\n",
        "\n",
        "    # Combine Scores\n",
        "    hybrid_scores = {}\n",
        "    for movie_id, score in collaborative_predictions:\n",
        "        if movie_id in genre_recommendations:\n",
        "            hybrid_scores[movie_id] = 0.7 * score + 0.3 * 1  # Weight SVD 70%, Genres 30%\n",
        "        else:\n",
        "            hybrid_scores[movie_id] = 0.7 * score\n",
        "\n",
        "    # Sort by combined score\n",
        "    recommended_movie_ids = sorted(hybrid_scores.items(), key=lambda x: x[1], reverse=True)[:top_n]\n",
        "    recommended_titles = movies_df[movies_df['movieId'].isin([x[0] for x in recommended_movie_ids])]['title']\n",
        "    return recommended_titles.tolist()\n",
        "\n",
        "# Test Hybrid Recommendation System\n",
        "recommended_hybrid_movies = hybrid_recommendation(414, svd_model, user_similarity_df, movies)\n",
        "print(f\"Hybrid Recommendations for User 414:\")\n",
        "print(recommended_hybrid_movies)\n"
      ],
      "metadata": {
        "colab": {
          "base_uri": "https://localhost:8080/"
        },
        "id": "Oalsd02-Bgx9",
        "outputId": "6e65c2eb-8b1c-4977-d87f-8ba25a1cb216"
      },
      "execution_count": 22,
      "outputs": [
        {
          "output_type": "stream",
          "name": "stdout",
          "text": [
            "Hybrid Recommendations for User 414:\n",
            "['Star Wars: Episode IV - A New Hope (1977)', 'Pulp Fiction (1994)', 'Shawshank Redemption, The (1994)', 'Dr. Strangelove or: How I Learned to Stop Worrying and Love the Bomb (1964)', 'Godfather, The (1972)', 'Citizen Kane (1941)', 'Star Wars: Episode V - The Empire Strikes Back (1980)', 'Lawrence of Arabia (1962)', 'Star Wars: Episode VI - Return of the Jedi (1983)', 'Memento (2000)']\n"
          ]
        }
      ]
    },
    {
      "cell_type": "code",
      "source": [
        "def precision_at_k(recommendations, relevant_items, k=10):\n",
        "    \"\"\"\n",
        "    Calculate Precision@K: proportion of recommended items that are relevant\n",
        "    Args:\n",
        "    - recommendations: list of recommended movie IDs\n",
        "    - relevant_items: list of movie IDs rated 4 or higher by the user\n",
        "    - k: number of top recommendations to consider\n",
        "    \"\"\"\n",
        "    recommended_top_k = recommendations[:k]\n",
        "    precision = len(set(recommended_top_k) & set(relevant_items)) / k\n",
        "    return precision\n",
        "\n",
        "# Test Precision@K for the hybrid system\n",
        "# Get relevant items for User 414 (movies rated 4 or higher)\n",
        "relevant_items = ratings[(ratings['userId'] == 414) & (ratings['rating'] >= 4)]['movieId'].tolist()\n",
        "\n",
        "# Map recommended movie titles back to movie IDs\n",
        "recommended_hybrid_ids = movies[movies['title'].isin(recommended_hybrid_movies)]['movieId'].tolist()\n",
        "\n",
        "# Calculate Precision@K\n",
        "precision_hybrid = precision_at_k(recommended_hybrid_ids, relevant_items, k=10)\n",
        "print(f\"Precision@10 for Hybrid Recommendations: {precision_hybrid}\")\n"
      ],
      "metadata": {
        "colab": {
          "base_uri": "https://localhost:8080/"
        },
        "id": "1-TcuIt8CFxa",
        "outputId": "80747932-3655-480a-b7e9-85e6698a4bea"
      },
      "execution_count": 23,
      "outputs": [
        {
          "output_type": "stream",
          "name": "stdout",
          "text": [
            "Precision@10 for Hybrid Recommendations: 1.0\n"
          ]
        }
      ]
    },
    {
      "cell_type": "code",
      "source": [
        "import matplotlib.pyplot as plt\n",
        "\n",
        "# Example metrics (replace with actual values)\n",
        "metrics = {\n",
        "    'Collaborative Filtering (RMSE)': 0.8818,  # Replace with your RMSE result\n",
        "    'Content-Based Filtering (Precision@10)': 0.0,  # Replace with earlier precision\n",
        "    'Hybrid Model (Precision@10)': precision_hybrid  # Replace with the calculated value\n",
        "}\n",
        "\n",
        "# Separate RMSE and Precision values\n",
        "rmse_values = [metrics['Collaborative Filtering (RMSE)']]\n",
        "precision_values = [\n",
        "    metrics['Content-Based Filtering (Precision@10)'],\n",
        "    metrics['Hybrid Model (Precision@10)']\n",
        "]\n",
        "\n",
        "# Plot RMSE\n",
        "plt.figure(figsize=(8, 5))\n",
        "plt.bar(['Collaborative Filtering'], rmse_values, color='skyblue')\n",
        "plt.title('Model Performance (RMSE)')\n",
        "plt.ylabel('RMSE')\n",
        "plt.show()\n",
        "\n",
        "# Plot Precision@K\n",
        "plt.figure(figsize=(8, 5))\n",
        "plt.bar(['Content-Based', 'Hybrid Model'], precision_values, color=['lightgreen', 'gold'])\n",
        "plt.title('Model Performance (Precision@10)')\n",
        "plt.ylabel('Precision@10')\n",
        "plt.show()\n"
      ],
      "metadata": {
        "colab": {
          "base_uri": "https://localhost:8080/",
          "height": 838
        },
        "id": "eG1OXgp8CNCh",
        "outputId": "abe719d2-d273-4422-8360-57de46b620f7"
      },
      "execution_count": 24,
      "outputs": [
        {
          "output_type": "display_data",
          "data": {
            "text/plain": [
              "<Figure size 800x500 with 1 Axes>"
            ],
            "image/png": "[encoded data removed]"
          },
          "metadata": {}
        },
        {
          "output_type": "display_data",
          "data": {
            "text/plain": [
              "<Figure size 800x500 with 1 Axes>"
            ],
            "image/png": "[encoded data removed]"
          },
          "metadata": {}
        }
      ]
    }
  ]
}